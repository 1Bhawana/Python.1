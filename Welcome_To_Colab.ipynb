{
  "cells": [
    {
      "cell_type": "code",
      "source": [
        "# Write a program to find prime number with in a range using function.\n",
        "lower=int(input (\"lower range:\"))\n",
        "upper=int(input (\"upper range:\"))\n",
        "for num in range(lower,upper+1):\n",
        "    if num > 1:\n",
        "       for i in range(2,num):\n",
        "          if (num%i)==0:\n",
        "              break\n",
        "       else:\n",
        "            print(num)\n",
        "\n"
      ],
      "metadata": {
        "id": "eN85TwGiS5Pq",
        "outputId": "6b902c65-5a56-438f-f359-5b132e155409",
        "colab": {
          "base_uri": "https://localhost:8080/"
        }
      },
      "execution_count": 12,
      "outputs": [
        {
          "output_type": "stream",
          "name": "stdout",
          "text": [
            "lower range:1\n",
            "upper range:10\n",
            "2\n",
            "3\n",
            "5\n",
            "7\n"
          ]
        }
      ]
    },
    {
      "cell_type": "code",
      "source": [
        "#Write a program to check palindrome.\n",
        "value=input(\"enter the value\")\n",
        "reversed_value=value[::-1]\n",
        "if value==reversed_value:\n",
        "    print(\"palindrome\")\n",
        "else:\n",
        "    print(\"not palindrome\")"
      ],
      "metadata": {
        "id": "7R8wi0HyXK79",
        "outputId": "2ae393d8-1d14-4b60-87dc-4461e7a2bd05",
        "colab": {
          "base_uri": "https://localhost:8080/"
        }
      },
      "execution_count": 13,
      "outputs": [
        {
          "output_type": "stream",
          "name": "stdout",
          "text": [
            "enter the value123\n",
            "not palindrome\n"
          ]
        }
      ]
    },
    {
      "cell_type": "code",
      "source": [
        "#Write a program to generate the Fibonacci sequence of a given number.\n",
        "num=int(input(\"enter the number\"))\n",
        "n1,n2=0,1\n",
        "sum=0\n",
        "if num<=0:\n",
        "    print(\"enter number greater than 0\")\n",
        "else:\n",
        "    for i in range(0,num):\n",
        "         print(sum,end=\" \")\n",
        "         n1=n2\n",
        "         n2=sum\n",
        "         sum=n1+n2"
      ],
      "metadata": {
        "id": "CYUOR_7_YpRS",
        "outputId": "270c784e-427c-4299-eb9a-f6e01fca79e7",
        "colab": {
          "base_uri": "https://localhost:8080/"
        }
      },
      "execution_count": 16,
      "outputs": [
        {
          "output_type": "stream",
          "name": "stdout",
          "text": [
            "enter the number7\n",
            "0 1 1 2 3 5 8 "
          ]
        }
      ]
    },
    {
      "cell_type": "code",
      "source": [
        "#Create a number guessing game. Where you have to generate a random number in between 1 to 100 and user have to prompt a number for guess. if its high or low number let the user know and guide them through the process to guess correct number.\n",
        "import random\n",
        "num=random.randint(1,100)\n",
        "guess=0\n",
        "while guess!=num:\n",
        "    guess=int(input(\"enter the number\"))\n",
        "    if guess<num:\n",
        "        print(\"high\")\n",
        "    elif guess>num:\n",
        "        print(\"low\")\n",
        "    else:\n",
        "        print(\"correct\")"
      ],
      "metadata": {
        "id": "2YRid-i_aq5A",
        "outputId": "1d0217ae-f81d-4a77-8ebc-296f5729a6c3",
        "colab": {
          "base_uri": "https://localhost:8080/"
        }
      },
      "execution_count": 17,
      "outputs": [
        {
          "output_type": "stream",
          "name": "stdout",
          "text": [
            "enter the number3\n",
            "high\n",
            "enter the number6\n",
            "high\n",
            "enter the number7\n",
            "high\n",
            "enter the number66\n",
            "low\n",
            "enter the number20\n",
            "high\n",
            "enter the number19\n",
            "high\n",
            "enter the number9\n",
            "high\n",
            "enter the number7\n",
            "high\n",
            "enter the number6\n",
            "high\n",
            "enter the number21\n",
            "high\n",
            "enter the number23\n",
            "high\n",
            "enter the number25\n",
            "high\n",
            "enter the number26\n",
            "high\n",
            "enter the number30\n",
            "high\n",
            "enter the number40\n",
            "low\n",
            "enter the number35\n",
            "high\n",
            "enter the number36\n",
            "correct\n"
          ]
        }
      ]
    }
  ],
  "metadata": {
    "colab": {
      "name": "Welcome To Colab",
      "toc_visible": true,
      "provenance": []
    },
    "kernelspec": {
      "display_name": "Python 3",
      "name": "python3"
    }
  },
  "nbformat": 4,
  "nbformat_minor": 0
}